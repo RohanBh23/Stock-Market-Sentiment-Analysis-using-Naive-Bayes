{
 "cells": [
  {
   "cell_type": "code",
   "execution_count": 43,
   "id": "af005f27",
   "metadata": {},
   "outputs": [],
   "source": [
    "from nltk.tokenize import RegexpTokenizer\n",
    "from nltk.stem.porter import PorterStemmer\n",
    "from nltk.corpus import stopwords\n",
    "import pandas as pd\n",
    "import sys"
   ]
  },
  {
   "cell_type": "code",
   "execution_count": 15,
   "id": "cd465ede",
   "metadata": {},
   "outputs": [],
   "source": [
    "tokenizer = RegexpTokenizer(r'\\w+')\n",
    "en_stopwords = set(stopwords.words('english'))\n",
    "ps = PorterStemmer()"
   ]
  },
  {
   "cell_type": "code",
   "execution_count": 34,
   "id": "f76c1135",
   "metadata": {},
   "outputs": [],
   "source": [
    "def getStemmedSentence(sentence):\n",
    "    \n",
    "    sentence = sentence.lower()\n",
    "    sentence = sentence.replace(\"<br /><br />\",\" \")\n",
    "    \n",
    "    #Tokenize\n",
    "    tokens = tokenizer.tokenize(sentence)\n",
    "    \n",
    "    #Removing stopwords\n",
    "    new_tokens = []\n",
    "    for token in tokens:\n",
    "        if token not in en_stopwords:\n",
    "            new_tokens.append(token)\n",
    "    stemmed_tokens = [ps.stem(token) for token in new_tokens]\n",
    "    \n",
    "    cleaned_sentence = ' '.join(stemmed_tokens)\n",
    "    \n",
    "    return cleaned_sentence"
   ]
  },
  {
   "cell_type": "code",
   "execution_count": 9,
   "id": "825d2ad4",
   "metadata": {},
   "outputs": [],
   "source": [
    "def getStemmedDocument(inputFile, outputFile):\n",
    "    \n",
    "    out = open(outputFile, 'w', encoding = \"utf8\")\n",
    "    \n",
    "    with open(inputFile, encoding = \"utf8\") as f:\n",
    "        reviews = f.readlines()\n",
    "        \n",
    "    for review in reviews:\n",
    "        cleaned_review = getStemmedReview(review)\n",
    "        print((cleaned_review),file = out)\n",
    "        \n",
    "    out.close()"
   ]
  },
  {
   "cell_type": "code",
   "execution_count": null,
   "id": "f323eb68",
   "metadata": {},
   "outputs": [],
   "source": [
    "inputFile = sys.argv[1]\n",
    "outputFile = sys.argv[2]\n",
    "getStemmedDocument(inputFile, outputFile)"
   ]
  }
 ],
 "metadata": {
  "kernelspec": {
   "display_name": "Python 3",
   "language": "python",
   "name": "python3"
  },
  "language_info": {
   "codemirror_mode": {
    "name": "ipython",
    "version": 3
   },
   "file_extension": ".py",
   "mimetype": "text/x-python",
   "name": "python",
   "nbconvert_exporter": "python",
   "pygments_lexer": "ipython3",
   "version": "3.8.8"
  }
 },
 "nbformat": 4,
 "nbformat_minor": 5
}
